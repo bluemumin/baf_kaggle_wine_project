{
 "cells": [
  {
   "cell_type": "code",
   "execution_count": 1,
   "metadata": {
    "ExecuteTime": {
     "end_time": "2020-06-27T07:55:26.007159Z",
     "start_time": "2020-06-27T07:55:25.100354Z"
    }
   },
   "outputs": [],
   "source": [
    "import pandas as pd\n",
    "\n",
    "import warnings\n",
    "warnings.filterwarnings('ignore')\n",
    "\n",
    "from sklearn.linear_model import LogisticRegression\n",
    "from sklearn.ensemble import RandomForestClassifier\n",
    "\n",
    "import lightgbm as lgb # lightgbm 부스팅 알고리즘 사용\n",
    "from lightgbm import LGBMClassifier\n",
    "\n",
    "from sklearn import metrics\n",
    "from sklearn.metrics import roc_auc_score"
   ]
  },
  {
   "cell_type": "code",
   "execution_count": 2,
   "metadata": {
    "ExecuteTime": {
     "end_time": "2020-06-27T07:55:26.038070Z",
     "start_time": "2020-06-27T07:55:26.008153Z"
    }
   },
   "outputs": [
    {
     "data": {
      "text/html": [
       "<div>\n",
       "<style scoped>\n",
       "    .dataframe tbody tr th:only-of-type {\n",
       "        vertical-align: middle;\n",
       "    }\n",
       "\n",
       "    .dataframe tbody tr th {\n",
       "        vertical-align: top;\n",
       "    }\n",
       "\n",
       "    .dataframe thead th {\n",
       "        text-align: right;\n",
       "    }\n",
       "</style>\n",
       "<table border=\"1\" class=\"dataframe\">\n",
       "  <thead>\n",
       "    <tr style=\"text-align: right;\">\n",
       "      <th></th>\n",
       "      <th>fixacid</th>\n",
       "      <th>volacid</th>\n",
       "      <th>citacid</th>\n",
       "      <th>rsugar</th>\n",
       "      <th>salt</th>\n",
       "      <th>freedioxid</th>\n",
       "      <th>totaldioxid</th>\n",
       "      <th>density</th>\n",
       "      <th>pH</th>\n",
       "      <th>sulphates</th>\n",
       "      <th>alcohol</th>\n",
       "      <th>quality</th>\n",
       "    </tr>\n",
       "  </thead>\n",
       "  <tbody>\n",
       "    <tr>\n",
       "      <th>0</th>\n",
       "      <td>7.4</td>\n",
       "      <td>0.70</td>\n",
       "      <td>0.00</td>\n",
       "      <td>1.9</td>\n",
       "      <td>0.076</td>\n",
       "      <td>11.0</td>\n",
       "      <td>34.0</td>\n",
       "      <td>0.9978</td>\n",
       "      <td>3.51</td>\n",
       "      <td>0.56</td>\n",
       "      <td>9.4</td>\n",
       "      <td>0</td>\n",
       "    </tr>\n",
       "    <tr>\n",
       "      <th>1</th>\n",
       "      <td>7.8</td>\n",
       "      <td>0.88</td>\n",
       "      <td>0.00</td>\n",
       "      <td>2.6</td>\n",
       "      <td>0.098</td>\n",
       "      <td>25.0</td>\n",
       "      <td>67.0</td>\n",
       "      <td>0.9968</td>\n",
       "      <td>3.20</td>\n",
       "      <td>0.68</td>\n",
       "      <td>9.8</td>\n",
       "      <td>0</td>\n",
       "    </tr>\n",
       "    <tr>\n",
       "      <th>2</th>\n",
       "      <td>7.8</td>\n",
       "      <td>0.76</td>\n",
       "      <td>0.04</td>\n",
       "      <td>2.3</td>\n",
       "      <td>0.092</td>\n",
       "      <td>15.0</td>\n",
       "      <td>54.0</td>\n",
       "      <td>0.9970</td>\n",
       "      <td>3.26</td>\n",
       "      <td>0.65</td>\n",
       "      <td>9.8</td>\n",
       "      <td>0</td>\n",
       "    </tr>\n",
       "    <tr>\n",
       "      <th>3</th>\n",
       "      <td>11.2</td>\n",
       "      <td>0.28</td>\n",
       "      <td>0.56</td>\n",
       "      <td>1.9</td>\n",
       "      <td>0.075</td>\n",
       "      <td>17.0</td>\n",
       "      <td>60.0</td>\n",
       "      <td>0.9980</td>\n",
       "      <td>3.16</td>\n",
       "      <td>0.58</td>\n",
       "      <td>9.8</td>\n",
       "      <td>1</td>\n",
       "    </tr>\n",
       "    <tr>\n",
       "      <th>4</th>\n",
       "      <td>7.4</td>\n",
       "      <td>0.70</td>\n",
       "      <td>0.00</td>\n",
       "      <td>1.9</td>\n",
       "      <td>0.076</td>\n",
       "      <td>11.0</td>\n",
       "      <td>34.0</td>\n",
       "      <td>0.9978</td>\n",
       "      <td>3.51</td>\n",
       "      <td>0.56</td>\n",
       "      <td>9.4</td>\n",
       "      <td>0</td>\n",
       "    </tr>\n",
       "  </tbody>\n",
       "</table>\n",
       "</div>"
      ],
      "text/plain": [
       "   fixacid  volacid  citacid  rsugar   salt  freedioxid  totaldioxid  density  \\\n",
       "0      7.4     0.70     0.00     1.9  0.076        11.0         34.0   0.9978   \n",
       "1      7.8     0.88     0.00     2.6  0.098        25.0         67.0   0.9968   \n",
       "2      7.8     0.76     0.04     2.3  0.092        15.0         54.0   0.9970   \n",
       "3     11.2     0.28     0.56     1.9  0.075        17.0         60.0   0.9980   \n",
       "4      7.4     0.70     0.00     1.9  0.076        11.0         34.0   0.9978   \n",
       "\n",
       "     pH  sulphates  alcohol  quality  \n",
       "0  3.51       0.56      9.4        0  \n",
       "1  3.20       0.68      9.8        0  \n",
       "2  3.26       0.65      9.8        0  \n",
       "3  3.16       0.58      9.8        1  \n",
       "4  3.51       0.56      9.4        0  "
      ]
     },
     "execution_count": 2,
     "metadata": {},
     "output_type": "execute_result"
    }
   ],
   "source": [
    "redwine = pd.read_csv(\"wine2.csv\")\n",
    "\n",
    "redwine['quality'] = [1 if i == 'high rank' else 0 for i in redwine['quality'] ]\n",
    "redwine.head()"
   ]
  },
  {
   "cell_type": "code",
   "execution_count": 3,
   "metadata": {
    "ExecuteTime": {
     "end_time": "2020-06-27T07:55:26.047041Z",
     "start_time": "2020-06-27T07:55:26.039039Z"
    }
   },
   "outputs": [],
   "source": [
    "from sklearn.model_selection import train_test_split\n",
    "\n",
    "X_train, X_test, y_train, y_test = train_test_split(redwine[ redwine.columns[:-1] ], redwine['quality'], \n",
    "                                                    test_size = 0.3, random_state = 2)"
   ]
  },
  {
   "cell_type": "markdown",
   "metadata": {},
   "source": [
    "# 단순 모델링 비교"
   ]
  },
  {
   "cell_type": "markdown",
   "metadata": {},
   "source": [
    "LogisticRegression"
   ]
  },
  {
   "cell_type": "code",
   "execution_count": 4,
   "metadata": {
    "ExecuteTime": {
     "end_time": "2020-06-27T07:55:26.094888Z",
     "start_time": "2020-06-27T07:55:26.051009Z"
    }
   },
   "outputs": [
    {
     "name": "stdout",
     "output_type": "stream",
     "text": [
      "정확도 : 0.7649572649572649\n",
      "AUC    : 0.7646557474245906\n"
     ]
    }
   ],
   "source": [
    "clf = LogisticRegression(random_state=0).fit(X_train, y_train)\n",
    "\n",
    "y_pred = clf.predict(X_test)\n",
    "y_pred2 = y_pred.round(0)\n",
    "y_pred2 = y_pred2.astype(int)\n",
    "print('정확도 :', metrics.accuracy_score(y_test, y_pred2))\n",
    "print('AUC    :', roc_auc_score(y_pred2, y_test))"
   ]
  },
  {
   "cell_type": "markdown",
   "metadata": {},
   "source": [
    "RandomForest 일반 and 개선"
   ]
  },
  {
   "cell_type": "code",
   "execution_count": 5,
   "metadata": {
    "ExecuteTime": {
     "end_time": "2020-06-27T07:55:26.353865Z",
     "start_time": "2020-06-27T07:55:26.095885Z"
    }
   },
   "outputs": [
    {
     "name": "stdout",
     "output_type": "stream",
     "text": [
      "정확도 : 0.7970085470085471\n",
      "AUC    : 0.7970181575878728\n"
     ]
    }
   ],
   "source": [
    "model = RandomForestClassifier(random_state = 0)\n",
    "model.fit(X_train, y_train)\n",
    "\n",
    "y_pred = model.predict(X_test)\n",
    "y_pred2 = y_pred.round(0)\n",
    "y_pred2 = y_pred2.astype(int)\n",
    "print('정확도 :', model.score(X_test, y_test) )\n",
    "print('AUC    :', roc_auc_score(y_pred2, y_test))"
   ]
  },
  {
   "cell_type": "code",
   "execution_count": 6,
   "metadata": {
    "ExecuteTime": {
     "end_time": "2020-06-27T07:55:26.617192Z",
     "start_time": "2020-06-27T07:55:26.354862Z"
    }
   },
   "outputs": [
    {
     "name": "stdout",
     "output_type": "stream",
     "text": [
      "정확도 : 0.811965811965812\n",
      "AUC    : 0.8115050117924528\n"
     ]
    }
   ],
   "source": [
    "model = RandomForestClassifier(criterion = 'entropy', n_estimators = 100, random_state = 0)\n",
    "model.fit(X_train, y_train)\n",
    "\n",
    "y_pred = model.predict(X_test)\n",
    "y_pred2 = y_pred.round(0)\n",
    "y_pred2 = y_pred2.astype(int)\n",
    "print('정확도 :', model.score(X_test, y_test) )\n",
    "print('AUC    :', roc_auc_score(y_pred2, y_test))"
   ]
  },
  {
   "cell_type": "markdown",
   "metadata": {},
   "source": [
    "lgbm 일반 and 개선"
   ]
  },
  {
   "cell_type": "code",
   "execution_count": 7,
   "metadata": {
    "ExecuteTime": {
     "end_time": "2020-06-27T07:55:26.734845Z",
     "start_time": "2020-06-27T07:55:26.618192Z"
    }
   },
   "outputs": [
    {
     "name": "stdout",
     "output_type": "stream",
     "text": [
      "정확도 : 0.7948717948717948\n",
      "AUC    : 0.7957269411151642\n"
     ]
    }
   ],
   "source": [
    "lgbm = LGBMClassifier(random_state = 0)\n",
    "\n",
    "lgbm_clf = lgbm.fit(X_train,y_train) #train the model on 100 epocs\n",
    "\n",
    "y_pred = lgbm_clf.predict(X_test)\n",
    "y_pred2 = y_pred.round(0)\n",
    "y_pred2 = y_pred2.astype(int)\n",
    "\n",
    "print('정확도 :', metrics.accuracy_score(y_test, y_pred2))\n",
    "print('AUC    :', roc_auc_score(y_pred2, y_test))"
   ]
  },
  {
   "cell_type": "code",
   "execution_count": 8,
   "metadata": {
    "ExecuteTime": {
     "end_time": "2020-06-27T07:55:26.848543Z",
     "start_time": "2020-06-27T07:55:26.737839Z"
    }
   },
   "outputs": [
    {
     "name": "stdout",
     "output_type": "stream",
     "text": [
      "정확도 : 0.7970085470085471\n",
      "AUC    : 0.7981161607691877\n"
     ]
    }
   ],
   "source": [
    "d_train=lgb.Dataset(X_train, label=y_train)\n",
    "\n",
    "lgbm_param = {'objective':'binary',\n",
    "              \"metric\" : \"auc\",\n",
    "              'boosting_type': 'gbdt',\n",
    "              'random_state':42,\n",
    "              'learning_rate':0.075,\n",
    "            }\n",
    "\n",
    "clf = lgb.train(lgbm_param,d_train,100) #train the model on 100 epocs\n",
    "\n",
    "y_pred = clf.predict(X_test)\n",
    "y_pred2 = y_pred.round(0)\n",
    "y_pred2 = y_pred2.astype(int)\n",
    "\n",
    "print('정확도 :', metrics.accuracy_score(y_test, y_pred2))\n",
    "print('AUC    :', roc_auc_score(y_pred2, y_test))"
   ]
  },
  {
   "cell_type": "markdown",
   "metadata": {},
   "source": [
    "현재 데이터를 이를 고도화하고 일반적인 결과로 다른 사람들을 납득 시키기 위해서는, \n",
    "\n",
    "cross validation 과정, 더 많은 데이터 수집,\n",
    "\n",
    "새롭게 만들 수 있는 파생변수, 스태킹 등의 고도화된 모델링 구축 및 하이퍼 파라미터 조정이 필요한 것은 당연하다.\n",
    "\n",
    "하지만 이번 코드에서는 데이터를 간단히 train, test로 나누는 과정과\n",
    "\n",
    "그 이후에, 정말로 아무런 과정 없이 모델링만 한 상황을 간단히 코드로 표현하였다.\n",
    "\n",
    "데이터 수도 적고, 고도화를 하려는 목적이 아니므로 어느 정도의 정확도를 가지고 있다만 보는 것이 좋아보인다."
   ]
  }
 ],
 "metadata": {
  "hide_input": false,
  "kernelspec": {
   "display_name": "Python 3",
   "language": "python",
   "name": "python3"
  },
  "language_info": {
   "codemirror_mode": {
    "name": "ipython",
    "version": 3
   },
   "file_extension": ".py",
   "mimetype": "text/x-python",
   "name": "python",
   "nbconvert_exporter": "python",
   "pygments_lexer": "ipython3",
   "version": "3.7.6"
  },
  "toc": {
   "base_numbering": 1,
   "nav_menu": {},
   "number_sections": false,
   "sideBar": true,
   "skip_h1_title": false,
   "title_cell": "Table of Contents",
   "title_sidebar": "Contents",
   "toc_cell": false,
   "toc_position": {},
   "toc_section_display": true,
   "toc_window_display": false
  }
 },
 "nbformat": 4,
 "nbformat_minor": 4
}
